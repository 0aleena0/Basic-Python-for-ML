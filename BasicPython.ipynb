{
  "nbformat": 4,
  "nbformat_minor": 0,
  "metadata": {
    "colab": {
      "provenance": [],
      "authorship_tag": "ABX9TyP7bfk1aXIg5P5yn58jnHm4",
      "include_colab_link": true
    },
    "kernelspec": {
      "name": "python3",
      "display_name": "Python 3"
    },
    "language_info": {
      "name": "python"
    }
  },
  "cells": [
    {
      "cell_type": "markdown",
      "metadata": {
        "id": "view-in-github",
        "colab_type": "text"
      },
      "source": [
        "<a href=\"https://colab.research.google.com/github/0aleena0/Basic-Python-for-ML/blob/main/BasicPython.ipynb\" target=\"_parent\"><img src=\"https://colab.research.google.com/assets/colab-badge.svg\" alt=\"Open In Colab\"/></a>"
      ]
    },
    {
      "cell_type": "markdown",
      "source": [
        "# Introduction  to `Python`\n",
        ">First Program: Display GOD Bless You"
      ],
      "metadata": {
        "id": "5VC-fYYDvnH6"
      }
    },
    {
      "cell_type": "code",
      "source": [
        "print('hello')"
      ],
      "metadata": {
        "id": "801EuKyAxPWB"
      },
      "execution_count": null,
      "outputs": []
    },
    {
      "cell_type": "markdown",
      "source": [
        ">program to assign an integer and display it"
      ],
      "metadata": {
        "id": "6ctL7LPfyNFH"
      }
    },
    {
      "cell_type": "code",
      "source": [
        "a=10\n",
        "print('value of variable a is:',a)"
      ],
      "metadata": {
        "id": "vdz0TIt_xZqz"
      },
      "execution_count": null,
      "outputs": []
    },
    {
      "cell_type": "markdown",
      "source": [
        ">program to find sum of two numbers"
      ],
      "metadata": {
        "id": "S21X7f18yQCH"
      }
    },
    {
      "cell_type": "code",
      "source": [
        "a=5\n",
        "b=6\n",
        "sum=a+b\n",
        "print('sum of a and b is',sum)"
      ],
      "metadata": {
        "id": "vutSzqBNyC0x"
      },
      "execution_count": null,
      "outputs": []
    },
    {
      "cell_type": "markdown",
      "source": [
        ">Read two numbers from user and find the sum"
      ],
      "metadata": {
        "id": "HaO2yGuiyzVY"
      }
    },
    {
      "cell_type": "code",
      "source": [
        "a=int(input(\"enter the first number\")) #here input function reads the values as strings..int function cast it to integer"
      ],
      "metadata": {
        "id": "bGogBr9wy7aE"
      },
      "execution_count": null,
      "outputs": []
    },
    {
      "cell_type": "code",
      "source": [
        "b=int(input(\"enter the second number\"))"
      ],
      "metadata": {
        "id": "mIb0TwBbzSBY"
      },
      "execution_count": null,
      "outputs": []
    },
    {
      "cell_type": "code",
      "source": [
        "# display a and b\n",
        "print(a)\n",
        "print(b)"
      ],
      "metadata": {
        "id": "wppcQ0J-1KoY"
      },
      "execution_count": null,
      "outputs": []
    },
    {
      "cell_type": "code",
      "source": [
        "#printing sum\n",
        "sum=a+b\n",
        "print(\"sum=\",sum)"
      ],
      "metadata": {
        "id": "vo6AWGf0zkKy"
      },
      "execution_count": null,
      "outputs": []
    }
  ]
}