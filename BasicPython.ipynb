{
  "nbformat": 4,
  "nbformat_minor": 0,
  "metadata": {
    "colab": {
      "provenance": [],
      "authorship_tag": "ABX9TyNEprJI2Vwrv4MdPRkdccFG",
      "include_colab_link": true
    },
    "kernelspec": {
      "name": "python3",
      "display_name": "Python 3"
    },
    "language_info": {
      "name": "python"
    }
  },
  "cells": [
    {
      "cell_type": "markdown",
      "metadata": {
        "id": "view-in-github",
        "colab_type": "text"
      },
      "source": [
        "<a href=\"https://colab.research.google.com/github/0aleena0/Basic-Python-for-ML/blob/main/BasicPython.ipynb\" target=\"_parent\"><img src=\"https://colab.research.google.com/assets/colab-badge.svg\" alt=\"Open In Colab\"/></a>"
      ]
    },
    {
      "cell_type": "markdown",
      "source": [
        "# Introduction  to `Python`\n",
        ">First Program: Display GOD Bless You"
      ],
      "metadata": {
        "id": "5VC-fYYDvnH6"
      }
    },
    {
      "cell_type": "code",
      "source": [
        "print('God Bless You')"
      ],
      "metadata": {
        "id": "801EuKyAxPWB",
        "colab": {
          "base_uri": "https://localhost:8080/"
        },
        "outputId": "f9b40074-6fa0-4120-dbc7-31674f9fcc10"
      },
      "execution_count": 2,
      "outputs": [
        {
          "output_type": "stream",
          "name": "stdout",
          "text": [
            "God Bless You\n"
          ]
        }
      ]
    },
    {
      "cell_type": "markdown",
      "source": [
        ">program to assign an integer and display it"
      ],
      "metadata": {
        "id": "6ctL7LPfyNFH"
      }
    },
    {
      "cell_type": "code",
      "source": [
        "a=10\n",
        "print('value of variable a is:',a)"
      ],
      "metadata": {
        "id": "vdz0TIt_xZqz",
        "colab": {
          "base_uri": "https://localhost:8080/"
        },
        "outputId": "adfb7690-6329-4714-90d3-298c20996a0f"
      },
      "execution_count": 3,
      "outputs": [
        {
          "output_type": "stream",
          "name": "stdout",
          "text": [
            "value of variable a is: 10\n"
          ]
        }
      ]
    },
    {
      "cell_type": "markdown",
      "source": [
        ">program to find sum of two numbers"
      ],
      "metadata": {
        "id": "S21X7f18yQCH"
      }
    },
    {
      "cell_type": "code",
      "source": [
        "a=5\n",
        "b=6\n",
        "sum=a+b\n",
        "print('sum of a and b is',sum)"
      ],
      "metadata": {
        "id": "vutSzqBNyC0x",
        "colab": {
          "base_uri": "https://localhost:8080/"
        },
        "outputId": "3a5a6693-f895-4a6a-f017-20935a207f37"
      },
      "execution_count": 4,
      "outputs": [
        {
          "output_type": "stream",
          "name": "stdout",
          "text": [
            "sum of a and b is 11\n"
          ]
        }
      ]
    },
    {
      "cell_type": "markdown",
      "source": [
        ">Read two numbers from user and find the sum"
      ],
      "metadata": {
        "id": "HaO2yGuiyzVY"
      }
    },
    {
      "cell_type": "code",
      "source": [
        "a=int(input(\"enter the first number\")) #here input function reads the values as strings..int function cast it to integer"
      ],
      "metadata": {
        "id": "bGogBr9wy7aE",
        "colab": {
          "base_uri": "https://localhost:8080/"
        },
        "outputId": "868c8ce0-64ef-4cf7-eae2-8cc1acc8fb38"
      },
      "execution_count": 5,
      "outputs": [
        {
          "name": "stdout",
          "output_type": "stream",
          "text": [
            "enter the first number11\n"
          ]
        }
      ]
    },
    {
      "cell_type": "code",
      "source": [
        "b=int(input(\"enter the second number\"))"
      ],
      "metadata": {
        "id": "mIb0TwBbzSBY",
        "colab": {
          "base_uri": "https://localhost:8080/"
        },
        "outputId": "b0e9cdbd-0eba-4a31-a7cf-c56b8f4a5c65"
      },
      "execution_count": 6,
      "outputs": [
        {
          "name": "stdout",
          "output_type": "stream",
          "text": [
            "enter the second number12\n"
          ]
        }
      ]
    },
    {
      "cell_type": "code",
      "source": [
        "# display a and b\n",
        "print(a)\n",
        "print(b)"
      ],
      "metadata": {
        "id": "wppcQ0J-1KoY",
        "colab": {
          "base_uri": "https://localhost:8080/"
        },
        "outputId": "cb7e5c9d-f897-49f6-af21-fe0ae47e2a90"
      },
      "execution_count": 7,
      "outputs": [
        {
          "output_type": "stream",
          "name": "stdout",
          "text": [
            "11\n",
            "12\n"
          ]
        }
      ]
    },
    {
      "cell_type": "code",
      "source": [
        "#printing sum\n",
        "sum=a+b\n",
        "print(\"sum=\",sum)"
      ],
      "metadata": {
        "id": "vo6AWGf0zkKy",
        "colab": {
          "base_uri": "https://localhost:8080/"
        },
        "outputId": "a86a51c3-9e34-4afc-f085-96308167e5d0"
      },
      "execution_count": 8,
      "outputs": [
        {
          "output_type": "stream",
          "name": "stdout",
          "text": [
            "sum= 23\n"
          ]
        }
      ]
    }
  ]
}