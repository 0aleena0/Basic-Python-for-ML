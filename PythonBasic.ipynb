{
  "nbformat": 4,
  "nbformat_minor": 0,
  "metadata": {
    "colab": {
      "provenance": [],
      "authorship_tag": "ABX9TyOdoIHGM5Ufxo8z26AiFJ0N",
      "include_colab_link": true
    },
    "kernelspec": {
      "name": "python3",
      "display_name": "Python 3"
    },
    "language_info": {
      "name": "python"
    }
  },
  "cells": [
    {
      "cell_type": "markdown",
      "metadata": {
        "id": "view-in-github",
        "colab_type": "text"
      },
      "source": [
        "<a href=\"https://colab.research.google.com/github/0aleena0/Basic-Python-for-ML/blob/main/PythonBasic.ipynb\" target=\"_parent\"><img src=\"https://colab.research.google.com/assets/colab-badge.svg\" alt=\"Open In Colab\"/></a>"
      ]
    },
    {
      "cell_type": "markdown",
      "source": [
        "#Python Basics"
      ],
      "metadata": {
        "id": "Mk-J8pLSLIoz"
      }
    },
    {
      "cell_type": "code",
      "source": [
        "#Printing a string\n",
        "print(\"Hello, Python!\")\n",
        "print('hi')"
      ],
      "metadata": {
        "colab": {
          "base_uri": "https://localhost:8080/"
        },
        "id": "YGmt9IIjLiJu",
        "outputId": "88b7ba76-625e-4d2f-d014-149ac058441a"
      },
      "execution_count": 1,
      "outputs": [
        {
          "output_type": "stream",
          "name": "stdout",
          "text": [
            "Hello, Python!\n",
            "hi\n"
          ]
        }
      ]
    },
    {
      "cell_type": "markdown",
      "source": [
        "#Variables"
      ],
      "metadata": {
        "id": "0hGFXdgZL3q3"
      }
    },
    {
      "cell_type": "code",
      "source": [
        "# defining a variable : In Python there is no need to mention the data type\n",
        "\n",
        "var1 = 10      # An integer assignment\n",
        "var2 = 3.146   # A floating point\n",
        "var3 = \"Hello\" # A string\n",
        "\n",
        "print(var1,' ',var2,' ',var3)"
      ],
      "metadata": {
        "colab": {
          "base_uri": "https://localhost:8080/"
        },
        "id": "mEAb2R5WL2y9",
        "outputId": "11d79fa4-4a8a-4366-c454-6e5a1a017101"
      },
      "execution_count": 2,
      "outputs": [
        {
          "output_type": "stream",
          "name": "stdout",
          "text": [
            "10   3.146   Hello\n"
          ]
        }
      ]
    },
    {
      "cell_type": "code",
      "source": [
        "pi = 3.14\n",
        "print (\"Value of Pi is\",pi)"
      ],
      "metadata": {
        "colab": {
          "base_uri": "https://localhost:8080/"
        },
        "id": "qynvOQoKMF32",
        "outputId": "b1d76be2-9e0e-4a43-ae0d-a7c9b9aba79f"
      },
      "execution_count": 3,
      "outputs": [
        {
          "output_type": "stream",
          "name": "stdout",
          "text": [
            "Value of Pi is 3.14\n"
          ]
        }
      ]
    },
    {
      "cell_type": "markdown",
      "source": [
        "Assignment"
      ],
      "metadata": {
        "id": "WYjOnRegML93"
      }
    },
    {
      "cell_type": "code",
      "source": [
        "# Assigning same value to multiple variables\n",
        "\n",
        "var1 = var2 = var3 = 1\n",
        "print(var1,' ',var2,' ',var3)\n",
        "\n",
        "# Assigning Different values to variable in a single expression\n",
        "\n",
        "var1, var2, var3 = 1, 2.5, \"john\"\n",
        "print(var1,' ',var2,' ',var3)\n",
        "\n",
        "# Note: commas can be used for multi-assignments"
      ],
      "metadata": {
        "colab": {
          "base_uri": "https://localhost:8080/"
        },
        "id": "ZT2YzqvvMLkX",
        "outputId": "221b9d9e-5522-42a8-cb7a-f242f2023783"
      },
      "execution_count": 4,
      "outputs": [
        {
          "output_type": "stream",
          "name": "stdout",
          "text": [
            "1   1   1\n",
            "1   2.5   john\n"
          ]
        }
      ]
    },
    {
      "cell_type": "markdown",
      "source": [
        "Slicing"
      ],
      "metadata": {
        "id": "6YAVFaHlMYaI"
      }
    },
    {
      "cell_type": "code",
      "source": [
        "# String operations\n",
        "\n",
        "str = 'Hello World!'  # A string\n",
        "\n",
        "print(str)          # Prints complete string\n",
        "print(str[0])       # Prints first character of the string\n",
        "print(str[2:5])     # Prints characters starting from 3rd to 5th element\n",
        "print(str[2:])      # Prints string starting from 3rd character\n",
        "print(str[:2])\n",
        "print(str * 2)      # Prints string two times\n",
        "print(str + \"TEST\") # Prints concatenated string"
      ],
      "metadata": {
        "colab": {
          "base_uri": "https://localhost:8080/"
        },
        "id": "0ZPzNuxHMYHk",
        "outputId": "3ca90a0c-1df3-4646-bea7-0b13fefdaa8f"
      },
      "execution_count": 5,
      "outputs": [
        {
          "output_type": "stream",
          "name": "stdout",
          "text": [
            "Hello World!\n",
            "H\n",
            "llo\n",
            "llo World!\n",
            "He\n",
            "Hello World!Hello World!\n",
            "Hello World!TEST\n"
          ]
        }
      ]
    },
    {
      "cell_type": "markdown",
      "source": [
        "Data types"
      ],
      "metadata": {
        "id": "QQiq_LQuMeJT"
      }
    },
    {
      "cell_type": "code",
      "source": [
        "# Python Lists\n",
        "list = [ 'abcd', 786 , 2.23, 'john', 70.2 ]  # A list\n",
        "tuple = ( 'abcd', 786 , 2.23, 'john', 70.2  ) # A tuple. Tuples are immutable, i.e. cannot be edit later\n",
        "\n",
        "print(list)            # Prints complete list\n",
        "print(list[0])         # Prints first element of the list\n",
        "print(tuple[1:3])        # Prints elements starting from 2nd till 3rd \n",
        "\n",
        "list[0] = 'fgg'"
      ],
      "metadata": {
        "colab": {
          "base_uri": "https://localhost:8080/"
        },
        "id": "6FmH7I8IMdlo",
        "outputId": "e33ba6a9-1eb5-4f3c-f583-b028879570f5"
      },
      "execution_count": 6,
      "outputs": [
        {
          "output_type": "stream",
          "name": "stdout",
          "text": [
            "['abcd', 786, 2.23, 'john', 70.2]\n",
            "abcd\n",
            "(786, 2.23)\n"
          ]
        }
      ]
    },
    {
      "cell_type": "markdown",
      "source": [
        "### Exercise\n",
        "- Try assignments like $list[0] = 'csdc'$, $print(list)$ and $tuple[0] = 'csdc'$, $print(tuple)$"
      ],
      "metadata": {
        "id": "y83DTE94MmVQ"
      }
    },
    {
      "cell_type": "code",
      "source": [
        "list[0] =' csdc'\n",
        "print(list)\n",
        "tuple[0]=' csdc'\n",
        "print(tuple)"
      ],
      "metadata": {
        "colab": {
          "base_uri": "https://localhost:8080/",
          "height": 235
        },
        "id": "zuhGLaR0Mlcw",
        "outputId": "9c97d362-cc5a-40e6-b26a-bc0cff308863"
      },
      "execution_count": 8,
      "outputs": [
        {
          "output_type": "stream",
          "name": "stdout",
          "text": [
            "[' csdc', 786, 2.23, 'john', 70.2]\n"
          ]
        },
        {
          "output_type": "error",
          "ename": "TypeError",
          "evalue": "ignored",
          "traceback": [
            "\u001b[0;31m---------------------------------------------------------------------------\u001b[0m",
            "\u001b[0;31mTypeError\u001b[0m                                 Traceback (most recent call last)",
            "\u001b[0;32m<ipython-input-8-f716ec79abef>\u001b[0m in \u001b[0;36m<cell line: 3>\u001b[0;34m()\u001b[0m\n\u001b[1;32m      1\u001b[0m \u001b[0mlist\u001b[0m\u001b[0;34m[\u001b[0m\u001b[0;36m0\u001b[0m\u001b[0;34m]\u001b[0m \u001b[0;34m=\u001b[0m\u001b[0;34m' csdc'\u001b[0m\u001b[0;34m\u001b[0m\u001b[0;34m\u001b[0m\u001b[0m\n\u001b[1;32m      2\u001b[0m \u001b[0mprint\u001b[0m\u001b[0;34m(\u001b[0m\u001b[0mlist\u001b[0m\u001b[0;34m)\u001b[0m\u001b[0;34m\u001b[0m\u001b[0;34m\u001b[0m\u001b[0m\n\u001b[0;32m----> 3\u001b[0;31m \u001b[0mtuple\u001b[0m\u001b[0;34m[\u001b[0m\u001b[0;36m0\u001b[0m\u001b[0;34m]\u001b[0m\u001b[0;34m=\u001b[0m\u001b[0;34m' csdc'\u001b[0m\u001b[0;34m\u001b[0m\u001b[0;34m\u001b[0m\u001b[0m\n\u001b[0m\u001b[1;32m      4\u001b[0m \u001b[0mprint\u001b[0m\u001b[0;34m(\u001b[0m\u001b[0mtuple\u001b[0m\u001b[0;34m)\u001b[0m\u001b[0;34m\u001b[0m\u001b[0;34m\u001b[0m\u001b[0m\n",
            "\u001b[0;31mTypeError\u001b[0m: 'tuple' object does not support item assignment"
          ]
        }
      ]
    },
    {
      "cell_type": "code",
      "source": [
        "# Lists are ordered sets of objects, whereas dictionaries are unordered sets. But the main difference is that items in dictionaries are accessed via keys and not via their position.\n",
        "tel = {'jack': 4098, 'sape': 4139}\n",
        "tel['guido'] = 4127\n",
        "print(tel)\n",
        "print(tel['jack'])\n",
        "del tel['sape']\n",
        "tel['irv'] = 4127\n",
        "print(tel)\n",
        "print(tel.keys())\n",
        "print(sorted(tel.keys()))\n",
        "print(sorted(tel.values()))\n",
        "print('guido' in tel)\n",
        "print('jack' not in tel)"
      ],
      "metadata": {
        "colab": {
          "base_uri": "https://localhost:8080/"
        },
        "id": "PZ897sOgNU1M",
        "outputId": "8d7f669e-845d-4c49-cd3d-76be6b484087"
      },
      "execution_count": 9,
      "outputs": [
        {
          "output_type": "stream",
          "name": "stdout",
          "text": [
            "{'jack': 4098, 'sape': 4139, 'guido': 4127}\n",
            "4098\n",
            "{'jack': 4098, 'guido': 4127, 'irv': 4127}\n",
            "dict_keys(['jack', 'guido', 'irv'])\n",
            "['guido', 'irv', 'jack']\n",
            "[4098, 4127, 4127]\n",
            "True\n",
            "False\n"
          ]
        }
      ]
    },
    {
      "cell_type": "code",
      "source": [
        "list[0]='csdc'\n",
        "print(list)\n",
        "tuple[0]='csdc' # 'tuple' object does not support item assignment\n",
        "print(tuple)"
      ],
      "metadata": {
        "colab": {
          "base_uri": "https://localhost:8080/",
          "height": 235
        },
        "id": "RPLeDLKINfz4",
        "outputId": "985ee9f6-4de0-4207-ff09-175335ee6d5d"
      },
      "execution_count": 10,
      "outputs": [
        {
          "output_type": "stream",
          "name": "stdout",
          "text": [
            "['csdc', 786, 2.23, 'john', 70.2]\n"
          ]
        },
        {
          "output_type": "error",
          "ename": "TypeError",
          "evalue": "ignored",
          "traceback": [
            "\u001b[0;31m---------------------------------------------------------------------------\u001b[0m",
            "\u001b[0;31mTypeError\u001b[0m                                 Traceback (most recent call last)",
            "\u001b[0;32m<ipython-input-10-8ca86f9f56c4>\u001b[0m in \u001b[0;36m<cell line: 3>\u001b[0;34m()\u001b[0m\n\u001b[1;32m      1\u001b[0m \u001b[0mlist\u001b[0m\u001b[0;34m[\u001b[0m\u001b[0;36m0\u001b[0m\u001b[0;34m]\u001b[0m\u001b[0;34m=\u001b[0m\u001b[0;34m'csdc'\u001b[0m\u001b[0;34m\u001b[0m\u001b[0;34m\u001b[0m\u001b[0m\n\u001b[1;32m      2\u001b[0m \u001b[0mprint\u001b[0m\u001b[0;34m(\u001b[0m\u001b[0mlist\u001b[0m\u001b[0;34m)\u001b[0m\u001b[0;34m\u001b[0m\u001b[0;34m\u001b[0m\u001b[0m\n\u001b[0;32m----> 3\u001b[0;31m \u001b[0mtuple\u001b[0m\u001b[0;34m[\u001b[0m\u001b[0;36m0\u001b[0m\u001b[0;34m]\u001b[0m\u001b[0;34m=\u001b[0m\u001b[0;34m'csdc'\u001b[0m \u001b[0;31m# 'tuple' object does not support item assignment\u001b[0m\u001b[0;34m\u001b[0m\u001b[0;34m\u001b[0m\u001b[0m\n\u001b[0m\u001b[1;32m      4\u001b[0m \u001b[0mprint\u001b[0m\u001b[0;34m(\u001b[0m\u001b[0mtuple\u001b[0m\u001b[0;34m)\u001b[0m\u001b[0;34m\u001b[0m\u001b[0;34m\u001b[0m\u001b[0m\n",
            "\u001b[0;31mTypeError\u001b[0m: 'tuple' object does not support item assignment"
          ]
        }
      ]
    },
    {
      "cell_type": "markdown",
      "source": [
        "###Conditioning and looping"
      ],
      "metadata": {
        "id": "JMzWCnyxNp4b"
      }
    },
    {
      "cell_type": "code",
      "source": [
        "# Square of even numbers\n",
        "\n",
        "for i in range(0,10):\n",
        "    \n",
        "    if i%2 == 0:\n",
        "        print(\"Square of \",i,\" is :\",i*i)\n",
        "        \n",
        "    else:\n",
        "        print(i,\"is an odd number\")    "
      ],
      "metadata": {
        "colab": {
          "base_uri": "https://localhost:8080/"
        },
        "id": "sLG_0u3PNk5-",
        "outputId": "b82fd8ef-db65-4f42-fd73-4ea1cee2bbc5"
      },
      "execution_count": 11,
      "outputs": [
        {
          "output_type": "stream",
          "name": "stdout",
          "text": [
            "Square of  0  is : 0\n",
            "1 is an odd number\n",
            "Square of  2  is : 4\n",
            "3 is an odd number\n",
            "Square of  4  is : 16\n",
            "5 is an odd number\n",
            "Square of  6  is : 36\n",
            "7 is an odd number\n",
            "Square of  8  is : 64\n",
            "9 is an odd number\n"
          ]
        }
      ]
    },
    {
      "cell_type": "markdown",
      "source": [
        "### Built-in Functions"
      ],
      "metadata": {
        "id": "7o8eMxn-N6vC"
      }
    },
    {
      "cell_type": "code",
      "source": [
        "print(\"Sum of array: \",sum([1,2,3,4]))\n",
        "print(\"Length of array: \",len([1,2,3,4]))\n",
        "print(\"Absolute value: \",abs(-1234))\n",
        "print(\"Round value: \",round(1.2234))\n",
        "\n",
        "import math as mt      # importing a package\n",
        "print(\"Log value: \",mt.log(10))"
      ],
      "metadata": {
        "colab": {
          "base_uri": "https://localhost:8080/"
        },
        "id": "X24FBnSAN9Fg",
        "outputId": "43118271-35e3-43ef-8d36-e8db82c798da"
      },
      "execution_count": 12,
      "outputs": [
        {
          "output_type": "stream",
          "name": "stdout",
          "text": [
            "Sum of array:  10\n",
            "Length of array:  4\n",
            "Absolute value:  1234\n",
            "Round value:  1\n",
            "Log value:  2.302585092994046\n"
          ]
        }
      ]
    },
    {
      "cell_type": "markdown",
      "source": [
        "\n",
        "\n",
        "```\n",
        "# This is formatted as code\n",
        "```\n",
        "\n",
        "### Functions"
      ],
      "metadata": {
        "id": "5Uk_cIZROKvX"
      }
    },
    {
      "cell_type": "code",
      "source": [
        "def area(length,width):\n",
        "    return length*width\n",
        "are = area(10,20)\n",
        "print(\"Area of rectangle:\",are)"
      ],
      "metadata": {
        "colab": {
          "base_uri": "https://localhost:8080/"
        },
        "id": "x08GstbpOOz2",
        "outputId": "4d1d5589-287c-430e-d43d-ad0fa3bd94dd"
      },
      "execution_count": 13,
      "outputs": [
        {
          "output_type": "stream",
          "name": "stdout",
          "text": [
            "Area of rectangle: 200\n"
          ]
        }
      ]
    },
    {
      "cell_type": "markdown",
      "source": [
        "### Broadcasting\n",
        "* Subject to certain constraints, the smaller array is “broadcast” across the larger array so that they have compatible shapes\n",
        "\n",
        "### NumPy \n",
        "* Numpy is the fundamental package for numerical computing with Python. It contains among other things:\n",
        "* a powerful N-dimensional array object\n",
        "* sophisticated (broadcasting) functions\n",
        "* tools for integrating C/C++ and Fortran code\n",
        "\n",
        "* useful linear algebra, Fourier transform, and random number capabilities\n",
        "* Details of <a href=\"https://docs.scipy.org/doc/numpy/contents.html\">numpy</a>"
      ],
      "metadata": {
        "id": "onk2s90KOYQz"
      }
    },
    {
      "cell_type": "code",
      "source": [
        "import numpy as np   # Importing libraries\n",
        "\n",
        "a = np.array([0, 1, 2])\n",
        "b = np.array([5, 5, 5])\n",
        "\n",
        "print(\"Matrix A\\n\", a)\n",
        "print(\"Matrix B\\n\", b)\n",
        "\n",
        "print(\"Regular matrix addition A+B\\n\", a + b)\n",
        "\n",
        "print(\"Addition using Broadcasting A+5\\n\", a + 5)"
      ],
      "metadata": {
        "colab": {
          "base_uri": "https://localhost:8080/"
        },
        "id": "vNiJoqrbOZft",
        "outputId": "ecc714e8-1b59-48ce-d8c8-303a42b546b3"
      },
      "execution_count": 14,
      "outputs": [
        {
          "output_type": "stream",
          "name": "stdout",
          "text": [
            "Matrix A\n",
            " [0 1 2]\n",
            "Matrix B\n",
            " [5 5 5]\n",
            "Regular matrix addition A+B\n",
            " [5 6 7]\n",
            "Addition using Broadcasting A+5\n",
            " [5 6 7]\n"
          ]
        }
      ]
    },
    {
      "cell_type": "markdown",
      "source": [
        "### Broadcasting Rules\n",
        "When operating on two arrays, NumPy compares their shapes element-wise. It starts with the trailing dimensions, and works its way forward. Two dimensions are compatible when\n",
        "\n",
        "1. they are equal, or\n",
        "2.  one of them is 1\n"
      ],
      "metadata": {
        "id": "4xLMUkkIOg3R"
      }
    },
    {
      "cell_type": "code",
      "source": [
        "# Lets go for a 2D matrix\n",
        "c = np.array([[0, 1, 2],[3, 4, 5],[6, 7, 8]])\n",
        "d = np.array([[1, 2, 3],[1, 2, 3],[1, 2, 3]])\n",
        "\n",
        "e = np.array([1, 2, 3])\n",
        "\n",
        "print(\"Matrix C\\n\", c)\n",
        "print(\"Matrix D\\n\", d)\n",
        "print(\"Matrix E\\n\", e)\n",
        "\n",
        "print(\"Regular matrix addition C+D\\n\", c + d)\n",
        "\n",
        "print(\"Addition using Broadcasting C+E\\n\", c + e)"
      ],
      "metadata": {
        "colab": {
          "base_uri": "https://localhost:8080/"
        },
        "id": "yDg5YmwGOiM7",
        "outputId": "0fee036e-de69-4558-bf47-1b19c12eeba2"
      },
      "execution_count": 15,
      "outputs": [
        {
          "output_type": "stream",
          "name": "stdout",
          "text": [
            "Matrix C\n",
            " [[0 1 2]\n",
            " [3 4 5]\n",
            " [6 7 8]]\n",
            "Matrix D\n",
            " [[1 2 3]\n",
            " [1 2 3]\n",
            " [1 2 3]]\n",
            "Matrix E\n",
            " [1 2 3]\n",
            "Regular matrix addition C+D\n",
            " [[ 1  3  5]\n",
            " [ 4  6  8]\n",
            " [ 7  9 11]]\n",
            "Addition using Broadcasting C+E\n",
            " [[ 1  3  5]\n",
            " [ 4  6  8]\n",
            " [ 7  9 11]]\n"
          ]
        }
      ]
    },
    {
      "cell_type": "code",
      "source": [
        "M = np.ones((3, 3))\n",
        "print(\"Matrix M:\\n\",M)"
      ],
      "metadata": {
        "colab": {
          "base_uri": "https://localhost:8080/"
        },
        "id": "qcXDqhDnOqIM",
        "outputId": "d9697692-0fef-4e4b-c513-4c6e5e53e7f6"
      },
      "execution_count": 16,
      "outputs": [
        {
          "output_type": "stream",
          "name": "stdout",
          "text": [
            "Matrix M:\n",
            " [[1. 1. 1.]\n",
            " [1. 1. 1.]\n",
            " [1. 1. 1.]]\n"
          ]
        }
      ]
    },
    {
      "cell_type": "code",
      "source": [
        "# Lets go for a 2D matrix\n",
        "c = np.array([[0, 1, 2],[3, 4, 5],[6, 7, 8]])\n",
        "d = np.array([[1, 2, 3],[1, 2, 3],[1, 2, 3]])\n",
        "\n",
        "e = np.array([1, 2, 3])\n",
        "\n",
        "print(\"Matrix C\\n\", c)\n",
        "print(\"Matrix D\\n\", d)\n",
        "print(\"Matrix E\\n\", e)\n",
        "\n",
        "print(\"Regular matrix addition C+D\\n\", c + d)\n",
        "\n",
        "print(\"Addition using Broadcasting C+E\\n\", c + e)"
      ],
      "metadata": {
        "colab": {
          "base_uri": "https://localhost:8080/"
        },
        "id": "zj7t_6z8OuU_",
        "outputId": "7a3a1248-5074-4ea6-ae21-b5e41e898baf"
      },
      "execution_count": 17,
      "outputs": [
        {
          "output_type": "stream",
          "name": "stdout",
          "text": [
            "Matrix C\n",
            " [[0 1 2]\n",
            " [3 4 5]\n",
            " [6 7 8]]\n",
            "Matrix D\n",
            " [[1 2 3]\n",
            " [1 2 3]\n",
            " [1 2 3]]\n",
            "Matrix E\n",
            " [1 2 3]\n",
            "Regular matrix addition C+D\n",
            " [[ 1  3  5]\n",
            " [ 4  6  8]\n",
            " [ 7  9 11]]\n",
            "Addition using Broadcasting C+E\n",
            " [[ 1  3  5]\n",
            " [ 4  6  8]\n",
            " [ 7  9 11]]\n"
          ]
        }
      ]
    },
    {
      "cell_type": "code",
      "source": [
        "M = np.ones((3, 3))\n",
        "print(\"Matrix M:\\n\",M)"
      ],
      "metadata": {
        "colab": {
          "base_uri": "https://localhost:8080/"
        },
        "id": "YYMTpry0OxT1",
        "outputId": "6106cbf6-7705-4479-a624-b751aafa9626"
      },
      "execution_count": 18,
      "outputs": [
        {
          "output_type": "stream",
          "name": "stdout",
          "text": [
            "Matrix M:\n",
            " [[1. 1. 1.]\n",
            " [1. 1. 1.]\n",
            " [1. 1. 1.]]\n"
          ]
        }
      ]
    },
    {
      "cell_type": "markdown",
      "source": [
        "## All in one program"
      ],
      "metadata": {
        "id": "e7dsjWidO3ro"
      }
    },
    {
      "cell_type": "code",
      "source": [
        "# Importing libraries\n",
        "import timeit\n",
        "\n",
        "# Usage of builtin functions\n",
        "start = timeit.default_timer()   \n",
        "\n",
        "# Defining a list\n",
        "array_list = [10,11,15,19,21,32]      \n",
        "array_np_list = []\n",
        "\n",
        "# Print the list\n",
        "print(\"Original List\",array_list,\"\\n\")   \n",
        "\n",
        "# Defining a function\n",
        "def prime(num):      \n",
        "    if num > 1:     \n",
        "        \n",
        "        # check for factors\n",
        "        # Iterating a range of numbers\n",
        "        for i in range(2,num):    \n",
        "            if (num % i) == 0:\n",
        "                \n",
        "                # Appending data to list\n",
        "                array_np_list.append(num)           \n",
        "                print(num,\"is not a prime number (\",i,\"times\",num//i,\"is\",num,\")\")\n",
        "                \n",
        "                # Terminating a loop run\n",
        "                break         \n",
        "        else:\n",
        "            print(num,\"is a prime number\")\n",
        "            \n",
        "# Iterating a list\n",
        "for item in array_list:\n",
        "    \n",
        "    # Calling a function\n",
        "    prime(item)         \n",
        "\n",
        "print(\"\\nNon-prime List\",array_np_list,\"\\n\")\n",
        "\n",
        "end = timeit.default_timer()\n",
        "\n",
        "# Computing running time\n",
        "print(\"Time Taken to run the program:\",end - start, \"seconds\")       "
      ],
      "metadata": {
        "colab": {
          "base_uri": "https://localhost:8080/"
        },
        "id": "rN4UNoO9O41i",
        "outputId": "71384f35-5771-4a45-ab3a-f47f4b3e5d4a"
      },
      "execution_count": 19,
      "outputs": [
        {
          "output_type": "stream",
          "name": "stdout",
          "text": [
            "Original List [10, 11, 15, 19, 21, 32] \n",
            "\n",
            "10 is not a prime number ( 2 times 5 is 10 )\n",
            "11 is a prime number\n",
            "15 is not a prime number ( 3 times 5 is 15 )\n",
            "19 is a prime number\n",
            "21 is not a prime number ( 3 times 7 is 21 )\n",
            "32 is not a prime number ( 2 times 16 is 32 )\n",
            "\n",
            "Non-prime List [10, 15, 21, 32] \n",
            "\n",
            "Time Taken to run the program: 0.01800146000005043 seconds\n"
          ]
        }
      ]
    },
    {
      "cell_type": "markdown",
      "source": [
        "### Note:\n",
        "* Python is a procedural Language\n",
        "* Two versions of Python 2 vs 3\n",
        "* No braces. i.e. indentation\n",
        "* No need to explicitly mention data type"
      ],
      "metadata": {
        "id": "XY0zxbJGO8w5"
      }
    },
    {
      "cell_type": "markdown",
      "source": [
        "## Unvectorized vs Vectorized Implementations"
      ],
      "metadata": {
        "id": "VXz66G_kO_wx"
      }
    },
    {
      "cell_type": "code",
      "source": [
        "# Importing libraries\n",
        "import numpy as np\n",
        "\n",
        "# Defining matrices\n",
        "mat_a = [[6, 7, 8],[5, 4, 5],[1, 1, 1]]\n",
        "mat_b = [[1, 2, 3],[1, 2, 3],[1, 2, 3]]\n",
        "\n",
        "# Getting a row from matrix\n",
        "def get_row(matrix, row):\n",
        "    return matrix[row]\n",
        "\n",
        "# Getting a coloumn from matrix\n",
        "def get_column(matrix, column_number):\n",
        "    column = []\n",
        " \n",
        "    for i in range(len(matrix)):\n",
        "        column.append(matrix[i][column_number])\n",
        " \n",
        "    return column\n",
        "\n",
        "# Multiply a row with coloumn\n",
        "def unv_dot_product(vector_one, vector_two):\n",
        "    total = 0\n",
        " \n",
        "    if len(vector_one) != len(vector_two):\n",
        "        return total\n",
        " \n",
        "    for i in range(len(vector_one)):\n",
        "        product = vector_one[i] * vector_two[i]\n",
        "        total += product\n",
        " \n",
        "    return total\n",
        "\n",
        "# Multiply two matrixes\n",
        "def matrix_multiplication(matrix_one, matrix_two):\n",
        "    m_rows = len(matrix_one)\n",
        "    p_columns = len(matrix_two[0])\n",
        "    result = []\n",
        "    \n",
        "    for i in range(m_rows):\n",
        "        row_result = []\n",
        " \n",
        "        for j in range(p_columns):\n",
        "            row = get_row(matrix_one, i)\n",
        "            column = get_column(matrix_two, j)\n",
        "            product = unv_dot_product(row, column)\n",
        "            \n",
        "            row_result.append(product) \n",
        "        result.append(row_result)\n",
        "        \n",
        "    return result\n",
        "\n",
        "print(\"Matrix A: \", mat_a,\"\\n\")\n",
        "print(\"Matrix B: \", mat_b,\"\\n\")\n",
        "#mat_a.dot(mat_b)\n",
        "print(\"Unvectorized Matrix Multiplication\\n\",matrix_multiplication(mat_a,mat_b),\"\\n\")\n"
      ],
      "metadata": {
        "colab": {
          "base_uri": "https://localhost:8080/"
        },
        "id": "fIErI2dLO7iX",
        "outputId": "90dddb94-85fa-4e37-8beb-78d221dd2c3b"
      },
      "execution_count": 20,
      "outputs": [
        {
          "output_type": "stream",
          "name": "stdout",
          "text": [
            "Matrix A:  [[6, 7, 8], [5, 4, 5], [1, 1, 1]] \n",
            "\n",
            "Matrix B:  [[1, 2, 3], [1, 2, 3], [1, 2, 3]] \n",
            "\n",
            "Unvectorized Matrix Multiplication\n",
            " [[21, 42, 63], [14, 28, 42], [3, 6, 9]] \n",
            "\n"
          ]
        }
      ]
    },
    {
      "cell_type": "code",
      "source": [
        "# Vectorized Implementation\n",
        "npm_a = np.array(mat_a)\n",
        "npm_b = np.array(mat_b)\n",
        "\n",
        "print(\"Vectorized Matrix Multiplication\\n\",npm_a.dot(npm_b),\"\\n\") \n",
        "# A.dot(B) is a numpy built-in function for dot product"
      ],
      "metadata": {
        "colab": {
          "base_uri": "https://localhost:8080/"
        },
        "id": "Af_knByfPKA1",
        "outputId": "ff92e16c-f26f-4ca9-bfa8-9cc4a9670384"
      },
      "execution_count": 21,
      "outputs": [
        {
          "output_type": "stream",
          "name": "stdout",
          "text": [
            "Vectorized Matrix Multiplication\n",
            " [[21 42 63]\n",
            " [14 28 42]\n",
            " [ 3  6  9]] \n",
            "\n"
          ]
        }
      ]
    },
    {
      "cell_type": "markdown",
      "source": [
        "### Tip:\n",
        "* Vectorization reduces number of lines of code\n",
        "* Always prefer libraries and avoid coding from scratch"
      ],
      "metadata": {
        "id": "cUGYxPQePOP8"
      }
    },
    {
      "cell_type": "markdown",
      "source": [
        "## Essential Python Packages: Numpy, Pandas, Matplotlib\n"
      ],
      "metadata": {
        "id": "p8n07xInPQF8"
      }
    },
    {
      "cell_type": "code",
      "source": [
        "# Load library\n",
        "import numpy as np"
      ],
      "metadata": {
        "id": "GDwyOX9DPSZb"
      },
      "execution_count": 22,
      "outputs": []
    },
    {
      "cell_type": "code",
      "source": [
        "# Create row vector\n",
        "vector = np.array([1, 2, 3, 4, 5, 6])\n",
        "print(\"Vector:\",vector)\n",
        "\n",
        "# Select second element\n",
        "print(\"Element 2 in Vector is\",vector[1])"
      ],
      "metadata": {
        "colab": {
          "base_uri": "https://localhost:8080/"
        },
        "id": "oNcxUrHCPXHv",
        "outputId": "1d6c0fb0-a72c-4c27-902b-84f57f8d3801"
      },
      "execution_count": 23,
      "outputs": [
        {
          "output_type": "stream",
          "name": "stdout",
          "text": [
            "Vector: [1 2 3 4 5 6]\n",
            "Element 2 in Vector is 2\n"
          ]
        }
      ]
    },
    {
      "cell_type": "code",
      "source": [
        "# Create matrix\n",
        "matrix = np.array([[1, 2, 3],\n",
        "                   [4, 5, 6],\n",
        "                   [7, 8, 9]])\n",
        "\n",
        "print(\"Matrix\\n\",matrix)\n",
        "\n",
        "# Select second row\n",
        "print(\"Second row of Matrix\\n\",matrix[1,:])\n",
        "print(\"Third coloumn of Matrix\\n\",matrix[:,2])"
      ],
      "metadata": {
        "colab": {
          "base_uri": "https://localhost:8080/"
        },
        "id": "cH4dYOK7PaR2",
        "outputId": "ea700386-ab29-4ca9-d786-c0d189f1247c"
      },
      "execution_count": 24,
      "outputs": [
        {
          "output_type": "stream",
          "name": "stdout",
          "text": [
            "Matrix\n",
            " [[1 2 3]\n",
            " [4 5 6]\n",
            " [7 8 9]]\n",
            "Second row of Matrix\n",
            " [4 5 6]\n",
            "Third coloumn of Matrix\n",
            " [3 6 9]\n"
          ]
        }
      ]
    },
    {
      "cell_type": "code",
      "source": [
        "# Create Tensor\n",
        "tensor = np.array([ [[[1, 1], [1, 1]], [[2, 2], [2, 2]]],\n",
        "                    [[[3, 3], [3, 3]], [[4, 4], [4, 4]]] ])\n",
        "\n",
        "print(\"Tensor\\n\",tensor)"
      ],
      "metadata": {
        "colab": {
          "base_uri": "https://localhost:8080/"
        },
        "id": "xq0saUKtPbrc",
        "outputId": "03c7fd91-104f-4400-87d5-51cf8b99ebc6"
      },
      "execution_count": 25,
      "outputs": [
        {
          "output_type": "stream",
          "name": "stdout",
          "text": [
            "Tensor\n",
            " [[[[1 1]\n",
            "   [1 1]]\n",
            "\n",
            "  [[2 2]\n",
            "   [2 2]]]\n",
            "\n",
            "\n",
            " [[[3 3]\n",
            "   [3 3]]\n",
            "\n",
            "  [[4 4]\n",
            "   [4 4]]]]\n"
          ]
        }
      ]
    },
    {
      "cell_type": "markdown",
      "source": [
        "### Matrix properties"
      ],
      "metadata": {
        "id": "qIVyF28YPfua"
      }
    },
    {
      "cell_type": "code",
      "source": [
        "# Create matrix\n",
        "matrix = np.array([[1, 2, 3],\n",
        "                   [4, 5, 6],\n",
        "                   [7, 8, 9]])\n",
        "\n",
        "print(\"Matrix Shape:\",matrix.shape)\n",
        "print(\"Number of elements:\",matrix.size)\n",
        "print(\"Number of dimentions:\",matrix.ndim)\n",
        "print(\"Average of matrix:\",np.mean(matrix))\n",
        "print(\"Maximum number:\",np.max(matrix))\n",
        "print(\"Coloumn with minimum numbers:\",np.min(matrix, axis=1))\n",
        "print(\"Diagnol of matrix:\",matrix.diagonal())\n",
        "print(\"Determinant of matrix:\",np.linalg.det(matrix))"
      ],
      "metadata": {
        "colab": {
          "base_uri": "https://localhost:8080/"
        },
        "id": "BKtfBqwVPgTO",
        "outputId": "9cc287f1-1fad-449a-b541-8e69247d78cf"
      },
      "execution_count": 26,
      "outputs": [
        {
          "output_type": "stream",
          "name": "stdout",
          "text": [
            "Matrix Shape: (3, 3)\n",
            "Number of elements: 9\n",
            "Number of dimentions: 2\n",
            "Average of matrix: 5.0\n",
            "Maximum number: 9\n",
            "Coloumn with minimum numbers: [1 4 7]\n",
            "Diagnol of matrix: [1 5 9]\n",
            "Determinant of matrix: 0.0\n"
          ]
        }
      ]
    },
    {
      "cell_type": "markdown",
      "source": [
        "### Matrix Operations"
      ],
      "metadata": {
        "id": "0_js8AglPlN2"
      }
    },
    {
      "cell_type": "code",
      "source": [
        "print(\"Flattened Matrix\\n\",matrix.flatten())\n",
        "print(\"Reshaping Matrix\\n\",matrix.reshape(9,1))\n",
        "print(\"Transposed Matrix\\n\",matrix.T)"
      ],
      "metadata": {
        "colab": {
          "base_uri": "https://localhost:8080/"
        },
        "id": "H09S_mNpPl7y",
        "outputId": "8a25f7c7-dc4b-4e29-c912-8c8c2ac51154"
      },
      "execution_count": 27,
      "outputs": [
        {
          "output_type": "stream",
          "name": "stdout",
          "text": [
            "Flattened Matrix\n",
            " [1 2 3 4 5 6 7 8 9]\n",
            "Reshaping Matrix\n",
            " [[1]\n",
            " [2]\n",
            " [3]\n",
            " [4]\n",
            " [5]\n",
            " [6]\n",
            " [7]\n",
            " [8]\n",
            " [9]]\n",
            "Transposed Matrix\n",
            " [[1 4 7]\n",
            " [2 5 8]\n",
            " [3 6 9]]\n"
          ]
        }
      ]
    },
    {
      "cell_type": "code",
      "source": [
        "# Create matrix\n",
        "matrix_a = np.array([[1, 1, 1],\n",
        "                     [1, 1, 1],\n",
        "                     [1, 1, 2]])\n",
        "\n",
        "# Create matrix\n",
        "matrix_b = np.array([[1, 3, 1],\n",
        "                     [1, 3, 1],\n",
        "                     [1, 3, 8]])\n",
        "\n",
        "print(\"Matrix Addition\\n\",np.add(matrix_a, matrix_b))\n",
        "print(\"Scalar Multiplication\\n\",np.multiply(matrix_a, matrix_b))\n",
        "print(\"Matrix Multiplication\\n\",np.dot(matrix_a, matrix_b))"
      ],
      "metadata": {
        "colab": {
          "base_uri": "https://localhost:8080/"
        },
        "id": "819X785HPo1P",
        "outputId": "1e484f79-3191-4778-e294-dd07ba57c6d9"
      },
      "execution_count": 28,
      "outputs": [
        {
          "output_type": "stream",
          "name": "stdout",
          "text": [
            "Matrix Addition\n",
            " [[ 2  4  2]\n",
            " [ 2  4  2]\n",
            " [ 2  4 10]]\n",
            "Scalar Multiplication\n",
            " [[ 1  3  1]\n",
            " [ 1  3  1]\n",
            " [ 1  3 16]]\n",
            "Matrix Multiplication\n",
            " [[ 3  9 10]\n",
            " [ 3  9 10]\n",
            " [ 4 12 18]]\n"
          ]
        }
      ]
    },
    {
      "cell_type": "markdown",
      "source": [
        "### Pandas\n",
        "Details of <a href=\"https://pandas.pydata.org/pandas-docs/stable/tutorials.html\"> pandas </a>"
      ],
      "metadata": {
        "id": "4XWseGfNPvoT"
      }
    },
    {
      "cell_type": "code",
      "source": [
        "import pandas as pd"
      ],
      "metadata": {
        "id": "72zuhZYaPvKp"
      },
      "execution_count": 29,
      "outputs": []
    },
    {
      "cell_type": "code",
      "source": [
        "df=pd.read_csv(\"https://raw.githubusercontent.com/sijuswamy/Basic-Python-for-Machine-Learning/main/Income.csv\")# load a file from github\n",
        "print(\"Data\\n\")\n",
        "df"
      ],
      "metadata": {
        "colab": {
          "base_uri": "https://localhost:8080/",
          "height": 680
        },
        "id": "zCT-MgpRQFJH",
        "outputId": "d3881885-324e-431c-f31e-843d3fc9ce0d"
      },
      "execution_count": 30,
      "outputs": [
        {
          "output_type": "stream",
          "name": "stdout",
          "text": [
            "Data\n",
            "\n"
          ]
        },
        {
          "output_type": "execute_result",
          "data": {
            "text/plain": [
              "        ID  Income Category Place\n",
              "0    QSPD1  491282        A   PKN\n",
              "1    QSPD2  471283        A   IND\n",
              "2    QSPD3  340922        A   PKN\n",
              "3    QSPD4  201982        A   IND\n",
              "4    QSPD5  467411        B   PKN\n",
              "5    QSPD6  235213        B   IND\n",
              "6    QSPD7  349655        B   PKN\n",
              "7    QSPD8  136889        B   IND\n",
              "8    QSPD9  202381        C   PKN\n",
              "9   QSPD10  165088        C   IND\n",
              "10  QSPD11  262719        C   PKN\n",
              "11  QSPD12  238013        C   IND\n",
              "12  QSPD13  493651        T   PKN\n",
              "13  QSPD14  489394        T   IND\n",
              "14  QSPD15  202417        T   PKN\n",
              "15  QSPD16  353774        G   IND\n",
              "16  QSPD17  367731        G   PKN\n",
              "17  QSPD18  295396        G   IND\n",
              "18  QSPD19  472732        G   PKN"
            ],
            "text/html": [
              "\n",
              "  <div id=\"df-ca408afb-5f9e-4a60-8fc8-2631d326f8c5\">\n",
              "    <div class=\"colab-df-container\">\n",
              "      <div>\n",
              "<style scoped>\n",
              "    .dataframe tbody tr th:only-of-type {\n",
              "        vertical-align: middle;\n",
              "    }\n",
              "\n",
              "    .dataframe tbody tr th {\n",
              "        vertical-align: top;\n",
              "    }\n",
              "\n",
              "    .dataframe thead th {\n",
              "        text-align: right;\n",
              "    }\n",
              "</style>\n",
              "<table border=\"1\" class=\"dataframe\">\n",
              "  <thead>\n",
              "    <tr style=\"text-align: right;\">\n",
              "      <th></th>\n",
              "      <th>ID</th>\n",
              "      <th>Income</th>\n",
              "      <th>Category</th>\n",
              "      <th>Place</th>\n",
              "    </tr>\n",
              "  </thead>\n",
              "  <tbody>\n",
              "    <tr>\n",
              "      <th>0</th>\n",
              "      <td>QSPD1</td>\n",
              "      <td>491282</td>\n",
              "      <td>A</td>\n",
              "      <td>PKN</td>\n",
              "    </tr>\n",
              "    <tr>\n",
              "      <th>1</th>\n",
              "      <td>QSPD2</td>\n",
              "      <td>471283</td>\n",
              "      <td>A</td>\n",
              "      <td>IND</td>\n",
              "    </tr>\n",
              "    <tr>\n",
              "      <th>2</th>\n",
              "      <td>QSPD3</td>\n",
              "      <td>340922</td>\n",
              "      <td>A</td>\n",
              "      <td>PKN</td>\n",
              "    </tr>\n",
              "    <tr>\n",
              "      <th>3</th>\n",
              "      <td>QSPD4</td>\n",
              "      <td>201982</td>\n",
              "      <td>A</td>\n",
              "      <td>IND</td>\n",
              "    </tr>\n",
              "    <tr>\n",
              "      <th>4</th>\n",
              "      <td>QSPD5</td>\n",
              "      <td>467411</td>\n",
              "      <td>B</td>\n",
              "      <td>PKN</td>\n",
              "    </tr>\n",
              "    <tr>\n",
              "      <th>5</th>\n",
              "      <td>QSPD6</td>\n",
              "      <td>235213</td>\n",
              "      <td>B</td>\n",
              "      <td>IND</td>\n",
              "    </tr>\n",
              "    <tr>\n",
              "      <th>6</th>\n",
              "      <td>QSPD7</td>\n",
              "      <td>349655</td>\n",
              "      <td>B</td>\n",
              "      <td>PKN</td>\n",
              "    </tr>\n",
              "    <tr>\n",
              "      <th>7</th>\n",
              "      <td>QSPD8</td>\n",
              "      <td>136889</td>\n",
              "      <td>B</td>\n",
              "      <td>IND</td>\n",
              "    </tr>\n",
              "    <tr>\n",
              "      <th>8</th>\n",
              "      <td>QSPD9</td>\n",
              "      <td>202381</td>\n",
              "      <td>C</td>\n",
              "      <td>PKN</td>\n",
              "    </tr>\n",
              "    <tr>\n",
              "      <th>9</th>\n",
              "      <td>QSPD10</td>\n",
              "      <td>165088</td>\n",
              "      <td>C</td>\n",
              "      <td>IND</td>\n",
              "    </tr>\n",
              "    <tr>\n",
              "      <th>10</th>\n",
              "      <td>QSPD11</td>\n",
              "      <td>262719</td>\n",
              "      <td>C</td>\n",
              "      <td>PKN</td>\n",
              "    </tr>\n",
              "    <tr>\n",
              "      <th>11</th>\n",
              "      <td>QSPD12</td>\n",
              "      <td>238013</td>\n",
              "      <td>C</td>\n",
              "      <td>IND</td>\n",
              "    </tr>\n",
              "    <tr>\n",
              "      <th>12</th>\n",
              "      <td>QSPD13</td>\n",
              "      <td>493651</td>\n",
              "      <td>T</td>\n",
              "      <td>PKN</td>\n",
              "    </tr>\n",
              "    <tr>\n",
              "      <th>13</th>\n",
              "      <td>QSPD14</td>\n",
              "      <td>489394</td>\n",
              "      <td>T</td>\n",
              "      <td>IND</td>\n",
              "    </tr>\n",
              "    <tr>\n",
              "      <th>14</th>\n",
              "      <td>QSPD15</td>\n",
              "      <td>202417</td>\n",
              "      <td>T</td>\n",
              "      <td>PKN</td>\n",
              "    </tr>\n",
              "    <tr>\n",
              "      <th>15</th>\n",
              "      <td>QSPD16</td>\n",
              "      <td>353774</td>\n",
              "      <td>G</td>\n",
              "      <td>IND</td>\n",
              "    </tr>\n",
              "    <tr>\n",
              "      <th>16</th>\n",
              "      <td>QSPD17</td>\n",
              "      <td>367731</td>\n",
              "      <td>G</td>\n",
              "      <td>PKN</td>\n",
              "    </tr>\n",
              "    <tr>\n",
              "      <th>17</th>\n",
              "      <td>QSPD18</td>\n",
              "      <td>295396</td>\n",
              "      <td>G</td>\n",
              "      <td>IND</td>\n",
              "    </tr>\n",
              "    <tr>\n",
              "      <th>18</th>\n",
              "      <td>QSPD19</td>\n",
              "      <td>472732</td>\n",
              "      <td>G</td>\n",
              "      <td>PKN</td>\n",
              "    </tr>\n",
              "  </tbody>\n",
              "</table>\n",
              "</div>\n",
              "      <button class=\"colab-df-convert\" onclick=\"convertToInteractive('df-ca408afb-5f9e-4a60-8fc8-2631d326f8c5')\"\n",
              "              title=\"Convert this dataframe to an interactive table.\"\n",
              "              style=\"display:none;\">\n",
              "        \n",
              "  <svg xmlns=\"http://www.w3.org/2000/svg\" height=\"24px\"viewBox=\"0 0 24 24\"\n",
              "       width=\"24px\">\n",
              "    <path d=\"M0 0h24v24H0V0z\" fill=\"none\"/>\n",
              "    <path d=\"M18.56 5.44l.94 2.06.94-2.06 2.06-.94-2.06-.94-.94-2.06-.94 2.06-2.06.94zm-11 1L8.5 8.5l.94-2.06 2.06-.94-2.06-.94L8.5 2.5l-.94 2.06-2.06.94zm10 10l.94 2.06.94-2.06 2.06-.94-2.06-.94-.94-2.06-.94 2.06-2.06.94z\"/><path d=\"M17.41 7.96l-1.37-1.37c-.4-.4-.92-.59-1.43-.59-.52 0-1.04.2-1.43.59L10.3 9.45l-7.72 7.72c-.78.78-.78 2.05 0 2.83L4 21.41c.39.39.9.59 1.41.59.51 0 1.02-.2 1.41-.59l7.78-7.78 2.81-2.81c.8-.78.8-2.07 0-2.86zM5.41 20L4 18.59l7.72-7.72 1.47 1.35L5.41 20z\"/>\n",
              "  </svg>\n",
              "      </button>\n",
              "      \n",
              "  <style>\n",
              "    .colab-df-container {\n",
              "      display:flex;\n",
              "      flex-wrap:wrap;\n",
              "      gap: 12px;\n",
              "    }\n",
              "\n",
              "    .colab-df-convert {\n",
              "      background-color: #E8F0FE;\n",
              "      border: none;\n",
              "      border-radius: 50%;\n",
              "      cursor: pointer;\n",
              "      display: none;\n",
              "      fill: #1967D2;\n",
              "      height: 32px;\n",
              "      padding: 0 0 0 0;\n",
              "      width: 32px;\n",
              "    }\n",
              "\n",
              "    .colab-df-convert:hover {\n",
              "      background-color: #E2EBFA;\n",
              "      box-shadow: 0px 1px 2px rgba(60, 64, 67, 0.3), 0px 1px 3px 1px rgba(60, 64, 67, 0.15);\n",
              "      fill: #174EA6;\n",
              "    }\n",
              "\n",
              "    [theme=dark] .colab-df-convert {\n",
              "      background-color: #3B4455;\n",
              "      fill: #D2E3FC;\n",
              "    }\n",
              "\n",
              "    [theme=dark] .colab-df-convert:hover {\n",
              "      background-color: #434B5C;\n",
              "      box-shadow: 0px 1px 3px 1px rgba(0, 0, 0, 0.15);\n",
              "      filter: drop-shadow(0px 1px 2px rgba(0, 0, 0, 0.3));\n",
              "      fill: #FFFFFF;\n",
              "    }\n",
              "  </style>\n",
              "\n",
              "      <script>\n",
              "        const buttonEl =\n",
              "          document.querySelector('#df-ca408afb-5f9e-4a60-8fc8-2631d326f8c5 button.colab-df-convert');\n",
              "        buttonEl.style.display =\n",
              "          google.colab.kernel.accessAllowed ? 'block' : 'none';\n",
              "\n",
              "        async function convertToInteractive(key) {\n",
              "          const element = document.querySelector('#df-ca408afb-5f9e-4a60-8fc8-2631d326f8c5');\n",
              "          const dataTable =\n",
              "            await google.colab.kernel.invokeFunction('convertToInteractive',\n",
              "                                                     [key], {});\n",
              "          if (!dataTable) return;\n",
              "\n",
              "          const docLinkHtml = 'Like what you see? Visit the ' +\n",
              "            '<a target=\"_blank\" href=https://colab.research.google.com/notebooks/data_table.ipynb>data table notebook</a>'\n",
              "            + ' to learn more about interactive tables.';\n",
              "          element.innerHTML = '';\n",
              "          dataTable['output_type'] = 'display_data';\n",
              "          await google.colab.output.renderOutput(dataTable, element);\n",
              "          const docLink = document.createElement('div');\n",
              "          docLink.innerHTML = docLinkHtml;\n",
              "          element.appendChild(docLink);\n",
              "        }\n",
              "      </script>\n",
              "    </div>\n",
              "  </div>\n",
              "  "
            ]
          },
          "metadata": {},
          "execution_count": 30
        }
      ]
    },
    {
      "cell_type": "code",
      "source": [
        "print(\"Top Elements\\n\")\n",
        "df.head(0)"
      ],
      "metadata": {
        "colab": {
          "base_uri": "https://localhost:8080/",
          "height": 84
        },
        "id": "yvbk0d_8QHuq",
        "outputId": "60008573-46e5-49b4-d37e-5536a1d756e1"
      },
      "execution_count": 31,
      "outputs": [
        {
          "output_type": "stream",
          "name": "stdout",
          "text": [
            "Top Elements\n",
            "\n"
          ]
        },
        {
          "output_type": "execute_result",
          "data": {
            "text/plain": [
              "Empty DataFrame\n",
              "Columns: [ID, Income, Category, Place]\n",
              "Index: []"
            ],
            "text/html": [
              "\n",
              "  <div id=\"df-5e7e9f46-331b-43e9-aec8-78fdba4dddef\">\n",
              "    <div class=\"colab-df-container\">\n",
              "      <div>\n",
              "<style scoped>\n",
              "    .dataframe tbody tr th:only-of-type {\n",
              "        vertical-align: middle;\n",
              "    }\n",
              "\n",
              "    .dataframe tbody tr th {\n",
              "        vertical-align: top;\n",
              "    }\n",
              "\n",
              "    .dataframe thead th {\n",
              "        text-align: right;\n",
              "    }\n",
              "</style>\n",
              "<table border=\"1\" class=\"dataframe\">\n",
              "  <thead>\n",
              "    <tr style=\"text-align: right;\">\n",
              "      <th></th>\n",
              "      <th>ID</th>\n",
              "      <th>Income</th>\n",
              "      <th>Category</th>\n",
              "      <th>Place</th>\n",
              "    </tr>\n",
              "  </thead>\n",
              "  <tbody>\n",
              "  </tbody>\n",
              "</table>\n",
              "</div>\n",
              "      <button class=\"colab-df-convert\" onclick=\"convertToInteractive('df-5e7e9f46-331b-43e9-aec8-78fdba4dddef')\"\n",
              "              title=\"Convert this dataframe to an interactive table.\"\n",
              "              style=\"display:none;\">\n",
              "        \n",
              "  <svg xmlns=\"http://www.w3.org/2000/svg\" height=\"24px\"viewBox=\"0 0 24 24\"\n",
              "       width=\"24px\">\n",
              "    <path d=\"M0 0h24v24H0V0z\" fill=\"none\"/>\n",
              "    <path d=\"M18.56 5.44l.94 2.06.94-2.06 2.06-.94-2.06-.94-.94-2.06-.94 2.06-2.06.94zm-11 1L8.5 8.5l.94-2.06 2.06-.94-2.06-.94L8.5 2.5l-.94 2.06-2.06.94zm10 10l.94 2.06.94-2.06 2.06-.94-2.06-.94-.94-2.06-.94 2.06-2.06.94z\"/><path d=\"M17.41 7.96l-1.37-1.37c-.4-.4-.92-.59-1.43-.59-.52 0-1.04.2-1.43.59L10.3 9.45l-7.72 7.72c-.78.78-.78 2.05 0 2.83L4 21.41c.39.39.9.59 1.41.59.51 0 1.02-.2 1.41-.59l7.78-7.78 2.81-2.81c.8-.78.8-2.07 0-2.86zM5.41 20L4 18.59l7.72-7.72 1.47 1.35L5.41 20z\"/>\n",
              "  </svg>\n",
              "      </button>\n",
              "      \n",
              "  <style>\n",
              "    .colab-df-container {\n",
              "      display:flex;\n",
              "      flex-wrap:wrap;\n",
              "      gap: 12px;\n",
              "    }\n",
              "\n",
              "    .colab-df-convert {\n",
              "      background-color: #E8F0FE;\n",
              "      border: none;\n",
              "      border-radius: 50%;\n",
              "      cursor: pointer;\n",
              "      display: none;\n",
              "      fill: #1967D2;\n",
              "      height: 32px;\n",
              "      padding: 0 0 0 0;\n",
              "      width: 32px;\n",
              "    }\n",
              "\n",
              "    .colab-df-convert:hover {\n",
              "      background-color: #E2EBFA;\n",
              "      box-shadow: 0px 1px 2px rgba(60, 64, 67, 0.3), 0px 1px 3px 1px rgba(60, 64, 67, 0.15);\n",
              "      fill: #174EA6;\n",
              "    }\n",
              "\n",
              "    [theme=dark] .colab-df-convert {\n",
              "      background-color: #3B4455;\n",
              "      fill: #D2E3FC;\n",
              "    }\n",
              "\n",
              "    [theme=dark] .colab-df-convert:hover {\n",
              "      background-color: #434B5C;\n",
              "      box-shadow: 0px 1px 3px 1px rgba(0, 0, 0, 0.15);\n",
              "      filter: drop-shadow(0px 1px 2px rgba(0, 0, 0, 0.3));\n",
              "      fill: #FFFFFF;\n",
              "    }\n",
              "  </style>\n",
              "\n",
              "      <script>\n",
              "        const buttonEl =\n",
              "          document.querySelector('#df-5e7e9f46-331b-43e9-aec8-78fdba4dddef button.colab-df-convert');\n",
              "        buttonEl.style.display =\n",
              "          google.colab.kernel.accessAllowed ? 'block' : 'none';\n",
              "\n",
              "        async function convertToInteractive(key) {\n",
              "          const element = document.querySelector('#df-5e7e9f46-331b-43e9-aec8-78fdba4dddef');\n",
              "          const dataTable =\n",
              "            await google.colab.kernel.invokeFunction('convertToInteractive',\n",
              "                                                     [key], {});\n",
              "          if (!dataTable) return;\n",
              "\n",
              "          const docLinkHtml = 'Like what you see? Visit the ' +\n",
              "            '<a target=\"_blank\" href=https://colab.research.google.com/notebooks/data_table.ipynb>data table notebook</a>'\n",
              "            + ' to learn more about interactive tables.';\n",
              "          element.innerHTML = '';\n",
              "          dataTable['output_type'] = 'display_data';\n",
              "          await google.colab.output.renderOutput(dataTable, element);\n",
              "          const docLink = document.createElement('div');\n",
              "          docLink.innerHTML = docLinkHtml;\n",
              "          element.appendChild(docLink);\n",
              "        }\n",
              "      </script>\n",
              "    </div>\n",
              "  </div>\n",
              "  "
            ]
          },
          "metadata": {},
          "execution_count": 31
        }
      ]
    },
    {
      "cell_type": "code",
      "source": [
        "print(\"Bottom Elements\\n\")\n",
        "df.tail(3)"
      ],
      "metadata": {
        "colab": {
          "base_uri": "https://localhost:8080/",
          "height": 178
        },
        "id": "IzritdWiQMY3",
        "outputId": "6f656b77-af5d-48da-f2e6-8ba78d876624"
      },
      "execution_count": 32,
      "outputs": [
        {
          "output_type": "stream",
          "name": "stdout",
          "text": [
            "Bottom Elements\n",
            "\n"
          ]
        },
        {
          "output_type": "execute_result",
          "data": {
            "text/plain": [
              "        ID  Income Category Place\n",
              "16  QSPD17  367731        G   PKN\n",
              "17  QSPD18  295396        G   IND\n",
              "18  QSPD19  472732        G   PKN"
            ],
            "text/html": [
              "\n",
              "  <div id=\"df-a5d73c41-81f6-493b-b046-c2e63bf68f9e\">\n",
              "    <div class=\"colab-df-container\">\n",
              "      <div>\n",
              "<style scoped>\n",
              "    .dataframe tbody tr th:only-of-type {\n",
              "        vertical-align: middle;\n",
              "    }\n",
              "\n",
              "    .dataframe tbody tr th {\n",
              "        vertical-align: top;\n",
              "    }\n",
              "\n",
              "    .dataframe thead th {\n",
              "        text-align: right;\n",
              "    }\n",
              "</style>\n",
              "<table border=\"1\" class=\"dataframe\">\n",
              "  <thead>\n",
              "    <tr style=\"text-align: right;\">\n",
              "      <th></th>\n",
              "      <th>ID</th>\n",
              "      <th>Income</th>\n",
              "      <th>Category</th>\n",
              "      <th>Place</th>\n",
              "    </tr>\n",
              "  </thead>\n",
              "  <tbody>\n",
              "    <tr>\n",
              "      <th>16</th>\n",
              "      <td>QSPD17</td>\n",
              "      <td>367731</td>\n",
              "      <td>G</td>\n",
              "      <td>PKN</td>\n",
              "    </tr>\n",
              "    <tr>\n",
              "      <th>17</th>\n",
              "      <td>QSPD18</td>\n",
              "      <td>295396</td>\n",
              "      <td>G</td>\n",
              "      <td>IND</td>\n",
              "    </tr>\n",
              "    <tr>\n",
              "      <th>18</th>\n",
              "      <td>QSPD19</td>\n",
              "      <td>472732</td>\n",
              "      <td>G</td>\n",
              "      <td>PKN</td>\n",
              "    </tr>\n",
              "  </tbody>\n",
              "</table>\n",
              "</div>\n",
              "      <button class=\"colab-df-convert\" onclick=\"convertToInteractive('df-a5d73c41-81f6-493b-b046-c2e63bf68f9e')\"\n",
              "              title=\"Convert this dataframe to an interactive table.\"\n",
              "              style=\"display:none;\">\n",
              "        \n",
              "  <svg xmlns=\"http://www.w3.org/2000/svg\" height=\"24px\"viewBox=\"0 0 24 24\"\n",
              "       width=\"24px\">\n",
              "    <path d=\"M0 0h24v24H0V0z\" fill=\"none\"/>\n",
              "    <path d=\"M18.56 5.44l.94 2.06.94-2.06 2.06-.94-2.06-.94-.94-2.06-.94 2.06-2.06.94zm-11 1L8.5 8.5l.94-2.06 2.06-.94-2.06-.94L8.5 2.5l-.94 2.06-2.06.94zm10 10l.94 2.06.94-2.06 2.06-.94-2.06-.94-.94-2.06-.94 2.06-2.06.94z\"/><path d=\"M17.41 7.96l-1.37-1.37c-.4-.4-.92-.59-1.43-.59-.52 0-1.04.2-1.43.59L10.3 9.45l-7.72 7.72c-.78.78-.78 2.05 0 2.83L4 21.41c.39.39.9.59 1.41.59.51 0 1.02-.2 1.41-.59l7.78-7.78 2.81-2.81c.8-.78.8-2.07 0-2.86zM5.41 20L4 18.59l7.72-7.72 1.47 1.35L5.41 20z\"/>\n",
              "  </svg>\n",
              "      </button>\n",
              "      \n",
              "  <style>\n",
              "    .colab-df-container {\n",
              "      display:flex;\n",
              "      flex-wrap:wrap;\n",
              "      gap: 12px;\n",
              "    }\n",
              "\n",
              "    .colab-df-convert {\n",
              "      background-color: #E8F0FE;\n",
              "      border: none;\n",
              "      border-radius: 50%;\n",
              "      cursor: pointer;\n",
              "      display: none;\n",
              "      fill: #1967D2;\n",
              "      height: 32px;\n",
              "      padding: 0 0 0 0;\n",
              "      width: 32px;\n",
              "    }\n",
              "\n",
              "    .colab-df-convert:hover {\n",
              "      background-color: #E2EBFA;\n",
              "      box-shadow: 0px 1px 2px rgba(60, 64, 67, 0.3), 0px 1px 3px 1px rgba(60, 64, 67, 0.15);\n",
              "      fill: #174EA6;\n",
              "    }\n",
              "\n",
              "    [theme=dark] .colab-df-convert {\n",
              "      background-color: #3B4455;\n",
              "      fill: #D2E3FC;\n",
              "    }\n",
              "\n",
              "    [theme=dark] .colab-df-convert:hover {\n",
              "      background-color: #434B5C;\n",
              "      box-shadow: 0px 1px 3px 1px rgba(0, 0, 0, 0.15);\n",
              "      filter: drop-shadow(0px 1px 2px rgba(0, 0, 0, 0.3));\n",
              "      fill: #FFFFFF;\n",
              "    }\n",
              "  </style>\n",
              "\n",
              "      <script>\n",
              "        const buttonEl =\n",
              "          document.querySelector('#df-a5d73c41-81f6-493b-b046-c2e63bf68f9e button.colab-df-convert');\n",
              "        buttonEl.style.display =\n",
              "          google.colab.kernel.accessAllowed ? 'block' : 'none';\n",
              "\n",
              "        async function convertToInteractive(key) {\n",
              "          const element = document.querySelector('#df-a5d73c41-81f6-493b-b046-c2e63bf68f9e');\n",
              "          const dataTable =\n",
              "            await google.colab.kernel.invokeFunction('convertToInteractive',\n",
              "                                                     [key], {});\n",
              "          if (!dataTable) return;\n",
              "\n",
              "          const docLinkHtml = 'Like what you see? Visit the ' +\n",
              "            '<a target=\"_blank\" href=https://colab.research.google.com/notebooks/data_table.ipynb>data table notebook</a>'\n",
              "            + ' to learn more about interactive tables.';\n",
              "          element.innerHTML = '';\n",
              "          dataTable['output_type'] = 'display_data';\n",
              "          await google.colab.output.renderOutput(dataTable, element);\n",
              "          const docLink = document.createElement('div');\n",
              "          docLink.innerHTML = docLinkHtml;\n",
              "          element.appendChild(docLink);\n",
              "        }\n",
              "      </script>\n",
              "    </div>\n",
              "  </div>\n",
              "  "
            ]
          },
          "metadata": {},
          "execution_count": 32
        }
      ]
    },
    {
      "cell_type": "code",
      "source": [
        "print(\"Specific Coloumn\\n\")\n",
        "df['Category'].head(3)"
      ],
      "metadata": {
        "colab": {
          "base_uri": "https://localhost:8080/"
        },
        "id": "jK2wQd16QPPK",
        "outputId": "b27942cd-48f2-494d-b78b-d720e9fd5655"
      },
      "execution_count": 33,
      "outputs": [
        {
          "output_type": "stream",
          "name": "stdout",
          "text": [
            "Specific Coloumn\n",
            "\n"
          ]
        },
        {
          "output_type": "execute_result",
          "data": {
            "text/plain": [
              "0    A\n",
              "1    A\n",
              "2    A\n",
              "Name: Category, dtype: object"
            ]
          },
          "metadata": {},
          "execution_count": 33
        }
      ]
    },
    {
      "cell_type": "code",
      "source": [
        "print(\"Replace negative numbers with NaN\\n\")\n",
        "df.replace(-999,np.nan)"
      ],
      "metadata": {
        "colab": {
          "base_uri": "https://localhost:8080/",
          "height": 680
        },
        "id": "H9_WDIvfQR0v",
        "outputId": "475cf511-2025-4c25-dc75-9739a80878a2"
      },
      "execution_count": 34,
      "outputs": [
        {
          "output_type": "stream",
          "name": "stdout",
          "text": [
            "Replace negative numbers with NaN\n",
            "\n"
          ]
        },
        {
          "output_type": "execute_result",
          "data": {
            "text/plain": [
              "        ID  Income Category Place\n",
              "0    QSPD1  491282        A   PKN\n",
              "1    QSPD2  471283        A   IND\n",
              "2    QSPD3  340922        A   PKN\n",
              "3    QSPD4  201982        A   IND\n",
              "4    QSPD5  467411        B   PKN\n",
              "5    QSPD6  235213        B   IND\n",
              "6    QSPD7  349655        B   PKN\n",
              "7    QSPD8  136889        B   IND\n",
              "8    QSPD9  202381        C   PKN\n",
              "9   QSPD10  165088        C   IND\n",
              "10  QSPD11  262719        C   PKN\n",
              "11  QSPD12  238013        C   IND\n",
              "12  QSPD13  493651        T   PKN\n",
              "13  QSPD14  489394        T   IND\n",
              "14  QSPD15  202417        T   PKN\n",
              "15  QSPD16  353774        G   IND\n",
              "16  QSPD17  367731        G   PKN\n",
              "17  QSPD18  295396        G   IND\n",
              "18  QSPD19  472732        G   PKN"
            ],
            "text/html": [
              "\n",
              "  <div id=\"df-24af406b-05f5-4db1-9b16-cb5dc10a8561\">\n",
              "    <div class=\"colab-df-container\">\n",
              "      <div>\n",
              "<style scoped>\n",
              "    .dataframe tbody tr th:only-of-type {\n",
              "        vertical-align: middle;\n",
              "    }\n",
              "\n",
              "    .dataframe tbody tr th {\n",
              "        vertical-align: top;\n",
              "    }\n",
              "\n",
              "    .dataframe thead th {\n",
              "        text-align: right;\n",
              "    }\n",
              "</style>\n",
              "<table border=\"1\" class=\"dataframe\">\n",
              "  <thead>\n",
              "    <tr style=\"text-align: right;\">\n",
              "      <th></th>\n",
              "      <th>ID</th>\n",
              "      <th>Income</th>\n",
              "      <th>Category</th>\n",
              "      <th>Place</th>\n",
              "    </tr>\n",
              "  </thead>\n",
              "  <tbody>\n",
              "    <tr>\n",
              "      <th>0</th>\n",
              "      <td>QSPD1</td>\n",
              "      <td>491282</td>\n",
              "      <td>A</td>\n",
              "      <td>PKN</td>\n",
              "    </tr>\n",
              "    <tr>\n",
              "      <th>1</th>\n",
              "      <td>QSPD2</td>\n",
              "      <td>471283</td>\n",
              "      <td>A</td>\n",
              "      <td>IND</td>\n",
              "    </tr>\n",
              "    <tr>\n",
              "      <th>2</th>\n",
              "      <td>QSPD3</td>\n",
              "      <td>340922</td>\n",
              "      <td>A</td>\n",
              "      <td>PKN</td>\n",
              "    </tr>\n",
              "    <tr>\n",
              "      <th>3</th>\n",
              "      <td>QSPD4</td>\n",
              "      <td>201982</td>\n",
              "      <td>A</td>\n",
              "      <td>IND</td>\n",
              "    </tr>\n",
              "    <tr>\n",
              "      <th>4</th>\n",
              "      <td>QSPD5</td>\n",
              "      <td>467411</td>\n",
              "      <td>B</td>\n",
              "      <td>PKN</td>\n",
              "    </tr>\n",
              "    <tr>\n",
              "      <th>5</th>\n",
              "      <td>QSPD6</td>\n",
              "      <td>235213</td>\n",
              "      <td>B</td>\n",
              "      <td>IND</td>\n",
              "    </tr>\n",
              "    <tr>\n",
              "      <th>6</th>\n",
              "      <td>QSPD7</td>\n",
              "      <td>349655</td>\n",
              "      <td>B</td>\n",
              "      <td>PKN</td>\n",
              "    </tr>\n",
              "    <tr>\n",
              "      <th>7</th>\n",
              "      <td>QSPD8</td>\n",
              "      <td>136889</td>\n",
              "      <td>B</td>\n",
              "      <td>IND</td>\n",
              "    </tr>\n",
              "    <tr>\n",
              "      <th>8</th>\n",
              "      <td>QSPD9</td>\n",
              "      <td>202381</td>\n",
              "      <td>C</td>\n",
              "      <td>PKN</td>\n",
              "    </tr>\n",
              "    <tr>\n",
              "      <th>9</th>\n",
              "      <td>QSPD10</td>\n",
              "      <td>165088</td>\n",
              "      <td>C</td>\n",
              "      <td>IND</td>\n",
              "    </tr>\n",
              "    <tr>\n",
              "      <th>10</th>\n",
              "      <td>QSPD11</td>\n",
              "      <td>262719</td>\n",
              "      <td>C</td>\n",
              "      <td>PKN</td>\n",
              "    </tr>\n",
              "    <tr>\n",
              "      <th>11</th>\n",
              "      <td>QSPD12</td>\n",
              "      <td>238013</td>\n",
              "      <td>C</td>\n",
              "      <td>IND</td>\n",
              "    </tr>\n",
              "    <tr>\n",
              "      <th>12</th>\n",
              "      <td>QSPD13</td>\n",
              "      <td>493651</td>\n",
              "      <td>T</td>\n",
              "      <td>PKN</td>\n",
              "    </tr>\n",
              "    <tr>\n",
              "      <th>13</th>\n",
              "      <td>QSPD14</td>\n",
              "      <td>489394</td>\n",
              "      <td>T</td>\n",
              "      <td>IND</td>\n",
              "    </tr>\n",
              "    <tr>\n",
              "      <th>14</th>\n",
              "      <td>QSPD15</td>\n",
              "      <td>202417</td>\n",
              "      <td>T</td>\n",
              "      <td>PKN</td>\n",
              "    </tr>\n",
              "    <tr>\n",
              "      <th>15</th>\n",
              "      <td>QSPD16</td>\n",
              "      <td>353774</td>\n",
              "      <td>G</td>\n",
              "      <td>IND</td>\n",
              "    </tr>\n",
              "    <tr>\n",
              "      <th>16</th>\n",
              "      <td>QSPD17</td>\n",
              "      <td>367731</td>\n",
              "      <td>G</td>\n",
              "      <td>PKN</td>\n",
              "    </tr>\n",
              "    <tr>\n",
              "      <th>17</th>\n",
              "      <td>QSPD18</td>\n",
              "      <td>295396</td>\n",
              "      <td>G</td>\n",
              "      <td>IND</td>\n",
              "    </tr>\n",
              "    <tr>\n",
              "      <th>18</th>\n",
              "      <td>QSPD19</td>\n",
              "      <td>472732</td>\n",
              "      <td>G</td>\n",
              "      <td>PKN</td>\n",
              "    </tr>\n",
              "  </tbody>\n",
              "</table>\n",
              "</div>\n",
              "      <button class=\"colab-df-convert\" onclick=\"convertToInteractive('df-24af406b-05f5-4db1-9b16-cb5dc10a8561')\"\n",
              "              title=\"Convert this dataframe to an interactive table.\"\n",
              "              style=\"display:none;\">\n",
              "        \n",
              "  <svg xmlns=\"http://www.w3.org/2000/svg\" height=\"24px\"viewBox=\"0 0 24 24\"\n",
              "       width=\"24px\">\n",
              "    <path d=\"M0 0h24v24H0V0z\" fill=\"none\"/>\n",
              "    <path d=\"M18.56 5.44l.94 2.06.94-2.06 2.06-.94-2.06-.94-.94-2.06-.94 2.06-2.06.94zm-11 1L8.5 8.5l.94-2.06 2.06-.94-2.06-.94L8.5 2.5l-.94 2.06-2.06.94zm10 10l.94 2.06.94-2.06 2.06-.94-2.06-.94-.94-2.06-.94 2.06-2.06.94z\"/><path d=\"M17.41 7.96l-1.37-1.37c-.4-.4-.92-.59-1.43-.59-.52 0-1.04.2-1.43.59L10.3 9.45l-7.72 7.72c-.78.78-.78 2.05 0 2.83L4 21.41c.39.39.9.59 1.41.59.51 0 1.02-.2 1.41-.59l7.78-7.78 2.81-2.81c.8-.78.8-2.07 0-2.86zM5.41 20L4 18.59l7.72-7.72 1.47 1.35L5.41 20z\"/>\n",
              "  </svg>\n",
              "      </button>\n",
              "      \n",
              "  <style>\n",
              "    .colab-df-container {\n",
              "      display:flex;\n",
              "      flex-wrap:wrap;\n",
              "      gap: 12px;\n",
              "    }\n",
              "\n",
              "    .colab-df-convert {\n",
              "      background-color: #E8F0FE;\n",
              "      border: none;\n",
              "      border-radius: 50%;\n",
              "      cursor: pointer;\n",
              "      display: none;\n",
              "      fill: #1967D2;\n",
              "      height: 32px;\n",
              "      padding: 0 0 0 0;\n",
              "      width: 32px;\n",
              "    }\n",
              "\n",
              "    .colab-df-convert:hover {\n",
              "      background-color: #E2EBFA;\n",
              "      box-shadow: 0px 1px 2px rgba(60, 64, 67, 0.3), 0px 1px 3px 1px rgba(60, 64, 67, 0.15);\n",
              "      fill: #174EA6;\n",
              "    }\n",
              "\n",
              "    [theme=dark] .colab-df-convert {\n",
              "      background-color: #3B4455;\n",
              "      fill: #D2E3FC;\n",
              "    }\n",
              "\n",
              "    [theme=dark] .colab-df-convert:hover {\n",
              "      background-color: #434B5C;\n",
              "      box-shadow: 0px 1px 3px 1px rgba(0, 0, 0, 0.15);\n",
              "      filter: drop-shadow(0px 1px 2px rgba(0, 0, 0, 0.3));\n",
              "      fill: #FFFFFF;\n",
              "    }\n",
              "  </style>\n",
              "\n",
              "      <script>\n",
              "        const buttonEl =\n",
              "          document.querySelector('#df-24af406b-05f5-4db1-9b16-cb5dc10a8561 button.colab-df-convert');\n",
              "        buttonEl.style.display =\n",
              "          google.colab.kernel.accessAllowed ? 'block' : 'none';\n",
              "\n",
              "        async function convertToInteractive(key) {\n",
              "          const element = document.querySelector('#df-24af406b-05f5-4db1-9b16-cb5dc10a8561');\n",
              "          const dataTable =\n",
              "            await google.colab.kernel.invokeFunction('convertToInteractive',\n",
              "                                                     [key], {});\n",
              "          if (!dataTable) return;\n",
              "\n",
              "          const docLinkHtml = 'Like what you see? Visit the ' +\n",
              "            '<a target=\"_blank\" href=https://colab.research.google.com/notebooks/data_table.ipynb>data table notebook</a>'\n",
              "            + ' to learn more about interactive tables.';\n",
              "          element.innerHTML = '';\n",
              "          dataTable['output_type'] = 'display_data';\n",
              "          await google.colab.output.renderOutput(dataTable, element);\n",
              "          const docLink = document.createElement('div');\n",
              "          docLink.innerHTML = docLinkHtml;\n",
              "          element.appendChild(docLink);\n",
              "        }\n",
              "      </script>\n",
              "    </div>\n",
              "  </div>\n",
              "  "
            ]
          },
          "metadata": {},
          "execution_count": 34
        }
      ]
    },
    {
      "cell_type": "markdown",
      "source": [
        "## Matplotlib\n",
        "Details of <a href=\"https://matplotlib.org/api/index.html\" > matplotlib </a>"
      ],
      "metadata": {
        "id": "cBJCNy2lQUsH"
      }
    },
    {
      "cell_type": "code",
      "source": [
        "import matplotlib.pyplot as plt\n",
        "import matplotlib.mlab as mlab"
      ],
      "metadata": {
        "id": "ajsVc39KQT_Y"
      },
      "execution_count": 35,
      "outputs": []
    },
    {
      "cell_type": "markdown",
      "source": [
        "### Line Plot"
      ],
      "metadata": {
        "id": "Q39rKLKOQadB"
      }
    },
    {
      "cell_type": "code",
      "source": [
        "# Line plot\n",
        "plt.plot([1,2,3,4],[1,4,5,6])\n",
        "plt.xlabel('some numbers')\n",
        "plt.ylabel('some numbers')\n",
        "plt.show()"
      ],
      "metadata": {
        "colab": {
          "base_uri": "https://localhost:8080/",
          "height": 449
        },
        "id": "uf9rFN33Qc2E",
        "outputId": "4c053b61-c3f6-46c8-f025-b4e791be3c8d"
      },
      "execution_count": 36,
      "outputs": [
        {
          "output_type": "display_data",
          "data": {
            "text/plain": [
              "<Figure size 640x480 with 1 Axes>"
            ],
            "image/png": "[encoded data removed]"
          },
          "metadata": {}
        }
      ]
    },
    {
      "cell_type": "code",
      "source": [
        "### Adding elements to line plots\n",
        "t = np.arange(0.0, 2.0, 0.01) # Generate equally space numbers between 0 and 2\n",
        "s = 1 + np.sin(2*np.pi*t)  # Apply sin function to the random numbers\n",
        "plt.plot(t, s)\n",
        "\n",
        "plt.xlabel('time (s)')\n",
        "plt.ylabel('voltage (mV)')\n",
        "plt.title('About as simple as it gets, folks')\n",
        "plt.grid(True)\n",
        "plt.savefig(\"test.png\") # Save a plot. Check the directory\n",
        "plt.show()"
      ],
      "metadata": {
        "colab": {
          "base_uri": "https://localhost:8080/",
          "height": 472
        },
        "id": "ctf4xaWQQine",
        "outputId": "3e7a155d-db44-4ea2-8e75-cbb61606a876"
      },
      "execution_count": 37,
      "outputs": [
        {
          "output_type": "display_data",
          "data": {
            "text/plain": [
              "<Figure size 640x480 with 1 Axes>"
            ],
            "image/png": "[encoded data removed]"
          },
          "metadata": {}
        }
      ]
    },
    {
      "cell_type": "markdown",
      "source": [
        "### Bar Plot"
      ],
      "metadata": {
        "id": "WTSxdYHBQlqG"
      }
    },
    {
      "cell_type": "code",
      "source": [
        "y = [3, 10, 7, 5, 3, 4.5, 6, 8.1]\n",
        "x = range(len(y))\n",
        "width = 1/1.5\n",
        "plt.bar(x, y, width, color=\"blue\")\n",
        "plt.show()"
      ],
      "metadata": {
        "colab": {
          "base_uri": "https://localhost:8080/",
          "height": 430
        },
        "id": "rNootfUeQmcD",
        "outputId": "9ab22e1d-d8e7-4636-cb8a-24947a105530"
      },
      "execution_count": 38,
      "outputs": [
        {
          "output_type": "display_data",
          "data": {
            "text/plain": [
              "<Figure size 640x480 with 1 Axes>"
            ],
            "image/png": "[encoded data removed]"
          },
          "metadata": {}
        }
      ]
    },
    {
      "cell_type": "markdown",
      "source": [
        "### Scatter Plot"
      ],
      "metadata": {
        "id": "6STrEjmiQrb8"
      }
    },
    {
      "cell_type": "code",
      "source": [
        "N = 50\n",
        "# Generate random numbers\n",
        "x = np.random.rand(N)\n",
        "y = np.random.rand(N)\n",
        "colors = np.random.rand(N)\n",
        "area = np.pi * (15*np.random.rand(N))**2  # 0 to 15 point radii\n",
        "\n",
        "plt.scatter(x, y, s=area, c=colors, alpha=0.5)\n",
        "plt.show()\n"
      ],
      "metadata": {
        "colab": {
          "base_uri": "https://localhost:8080/",
          "height": 430
        },
        "id": "76yZqnZTQpDr",
        "outputId": "e5898c2e-ba21-42b2-c480-ea3531299c38"
      },
      "execution_count": 39,
      "outputs": [
        {
          "output_type": "display_data",
          "data": {
            "text/plain": [
              "<Figure size 640x480 with 1 Axes>"
            ],
            "image/png": "[encoded data removed]"
          },
          "metadata": {}
        }
      ]
    },
    {
      "cell_type": "markdown",
      "source": [
        "\n",
        "### Histogram"
      ],
      "metadata": {
        "id": "JMYrYDl_QwV0"
      }
    },
    {
      "cell_type": "code",
      "source": [
        "mu, sigma = 100, 15\n",
        "from scipy.stats import norm\n",
        "x = mu + sigma*np.random.randn(10000) # Generate random values with some distribution\n",
        "\n",
        "# the histogram of the data\n",
        "n, bins, patches = plt.hist(x, 50, density=2, facecolor='green', alpha=0.75)\n",
        "\n",
        "# add a 'best fit' line\n",
        "y = norm.pdf( bins, mu, sigma)\n",
        "l = plt.plot(bins, y, 'r--', linewidth=1)\n",
        "\n",
        "plt.xlabel('Smarts')\n",
        "plt.ylabel('Probability')\n",
        "plt.title(r'$\\mathrm{Histogram\\ of\\ IQ:}\\ \\mu=100,\\ \\sigma=15$')\n",
        "plt.axis([40, 160, 0, 0.03])\n",
        "plt.grid(True)\n",
        "\n",
        "plt.show()"
      ],
      "metadata": {
        "colab": {
          "base_uri": "https://localhost:8080/",
          "height": 474
        },
        "id": "wjBlwdY2Q07O",
        "outputId": "33c07254-ca28-4cab-ae59-109605e22e9f"
      },
      "execution_count": 41,
      "outputs": [
        {
          "output_type": "display_data",
          "data": {
            "text/plain": [
              "<Figure size 640x480 with 1 Axes>"
            ],
            "image/png": "[encoded data removed]"
          },
          "metadata": {}
        }
      ]
    },
    {
      "cell_type": "markdown",
      "source": [
        "### Pie Chart"
      ],
      "metadata": {
        "id": "TLGBLK4SRNRu"
      }
    },
    {
      "cell_type": "code",
      "source": [
        "# Pie chart, where the slices will be ordered and plotted counter-clockwise:\n",
        "labels = 'Frogs', 'Hogs', 'Dogs', 'Logs'\n",
        "sizes = [15, 30, 45, 10]\n",
        "explode = (0, 0.1, 0, 0)  # only \"explode\" the 2nd slice (i.e. 'Hogs')\n",
        "\n",
        "fig1, ax1 = plt.subplots()\n",
        "ax1.pie(sizes, explode=explode, labels=labels, autopct='%1.1f%%',\n",
        "        shadow=True, startangle=90)\n",
        "ax1.axis('equal')  # Equal aspect ratio ensures that pie is drawn as a circle.\n",
        "\n",
        "plt.show()"
      ],
      "metadata": {
        "colab": {
          "base_uri": "https://localhost:8080/",
          "height": 406
        },
        "id": "aIYmEsUTRQTL",
        "outputId": "5dd4049b-eec1-41fb-eecd-0cbc6980dc6c"
      },
      "execution_count": 42,
      "outputs": [
        {
          "output_type": "display_data",
          "data": {
            "text/plain": [
              "<Figure size 640x480 with 1 Axes>"
            ],
            "image/png": "[encoded data removed]"
          },
          "metadata": {}
        }
      ]
    }
  ]
}